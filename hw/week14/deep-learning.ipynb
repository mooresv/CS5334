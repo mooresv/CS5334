{
 "cells": [
  {
   "cell_type": "code",
   "execution_count": 2,
   "metadata": {},
   "outputs": [],
   "source": [
    "import tensorflow as tf"
   ]
  },
  {
   "cell_type": "code",
   "execution_count": 3,
   "metadata": {},
   "outputs": [],
   "source": [
    "mnist = tf.keras.datasets.mnist\n",
    "(train_images, train_labels), (test_images, test_labels) = mnist.load_data()"
   ]
  },
  {
   "cell_type": "code",
   "execution_count": 5,
   "metadata": {},
   "outputs": [
    {
     "data": {
      "image/png": "[encoded data removed]",
      "text/plain": [
       "<Figure size 432x288 with 1 Axes>"
      ]
     },
     "metadata": {
      "needs_background": "light"
     },
     "output_type": "display_data"
    }
   ],
   "source": [
    "import matplotlib.pyplot as plt\n",
    "plt.imshow(train_images[2], cmap=plt.get_cmap('gray'), interpolation='none')\n",
    "plt.title(\"Digit: {}\".format(train_labels[2]))\n",
    "plt.show()"
   ]
  },
  {
   "cell_type": "markdown",
   "metadata": {},
   "source": [
    "First let's train with a simple fully-connected network."
   ]
  },
  {
   "cell_type": "code",
   "execution_count": 6,
   "metadata": {},
   "outputs": [],
   "source": [
    "train_images = train_images.reshape(60000, 784)\n",
    "test_images = test_images.reshape(10000, 784)\n",
    "test_images = test_images.astype('float32')\n",
    "train_images = train_images.astype('float32')\n",
    "test_images /= 255\n",
    "train_images /= 255"
   ]
  },
  {
   "cell_type": "code",
   "execution_count": 5,
   "metadata": {},
   "outputs": [
    {
     "name": "stdout",
     "output_type": "stream",
     "text": [
      "Model: \"sequential\"\n",
      "_________________________________________________________________\n",
      "Layer (type)                 Output Shape              Param #   \n",
      "=================================================================\n",
      "dense (Dense)                (None, 64)                50240     \n",
      "_________________________________________________________________\n",
      "dense_1 (Dense)              (None, 64)                4160      \n",
      "_________________________________________________________________\n",
      "dense_2 (Dense)              (None, 10)                650       \n",
      "=================================================================\n",
      "Total params: 55,050\n",
      "Trainable params: 55,050\n",
      "Non-trainable params: 0\n",
      "_________________________________________________________________\n"
     ]
    }
   ],
   "source": [
    "model = tf.keras.Sequential([\n",
    "    tf.keras.layers.Dense(64, activation='relu', input_shape=(784,)),\n",
    "    tf.keras.layers.Dense(64, activation='relu'),\n",
    "    tf.keras.layers.Dense(10, activation='softmax'),\n",
    "])\n",
    "model.summary()"
   ]
  },
  {
   "cell_type": "code",
   "execution_count": 7,
   "metadata": {},
   "outputs": [
    {
     "name": "stdout",
     "output_type": "stream",
     "text": [
      "Train on 60000 samples, validate on 10000 samples\n",
      "Epoch 1/40\n",
      "60000/60000 [==============================] - 3s 58us/sample - loss: 0.3850 - accuracy: 0.8917 - val_loss: 0.1954 - val_accuracy: 0.9422\n",
      "Epoch 2/40\n",
      "60000/60000 [==============================] - 1s 22us/sample - loss: 0.1702 - accuracy: 0.9506 - val_loss: 0.1493 - val_accuracy: 0.9566\n",
      "Epoch 3/40\n",
      "60000/60000 [==============================] - 1s 22us/sample - loss: 0.1257 - accuracy: 0.9632 - val_loss: 0.1150 - val_accuracy: 0.9654\n",
      "Epoch 4/40\n",
      "60000/60000 [==============================] - 1s 22us/sample - loss: 0.1010 - accuracy: 0.9699 - val_loss: 0.1050 - val_accuracy: 0.9679\n",
      "Epoch 5/40\n",
      "60000/60000 [==============================] - 1s 22us/sample - loss: 0.0842 - accuracy: 0.9743 - val_loss: 0.0948 - val_accuracy: 0.9719\n",
      "Epoch 6/40\n",
      "60000/60000 [==============================] - 1s 22us/sample - loss: 0.0723 - accuracy: 0.9779 - val_loss: 0.1086 - val_accuracy: 0.9675\n",
      "Epoch 7/40\n",
      "60000/60000 [==============================] - 1s 22us/sample - loss: 0.0608 - accuracy: 0.9816 - val_loss: 0.0902 - val_accuracy: 0.9725\n",
      "Epoch 8/40\n",
      "60000/60000 [==============================] - 1s 22us/sample - loss: 0.0529 - accuracy: 0.9843 - val_loss: 0.0866 - val_accuracy: 0.9729\n",
      "Epoch 9/40\n",
      "60000/60000 [==============================] - 1s 22us/sample - loss: 0.0461 - accuracy: 0.9859 - val_loss: 0.0921 - val_accuracy: 0.9727\n",
      "Epoch 10/40\n",
      "60000/60000 [==============================] - 1s 22us/sample - loss: 0.0397 - accuracy: 0.9875 - val_loss: 0.0851 - val_accuracy: 0.9750\n",
      "Epoch 11/40\n",
      "60000/60000 [==============================] - 1s 22us/sample - loss: 0.0359 - accuracy: 0.9889 - val_loss: 0.0878 - val_accuracy: 0.9741\n",
      "Epoch 12/40\n",
      "60000/60000 [==============================] - 1s 22us/sample - loss: 0.0307 - accuracy: 0.9908 - val_loss: 0.0920 - val_accuracy: 0.9758\n",
      "Epoch 13/40\n",
      "60000/60000 [==============================] - 1s 22us/sample - loss: 0.0271 - accuracy: 0.9919 - val_loss: 0.0883 - val_accuracy: 0.9763\n",
      "Epoch 14/40\n",
      "60000/60000 [==============================] - 1s 22us/sample - loss: 0.0241 - accuracy: 0.9925 - val_loss: 0.0910 - val_accuracy: 0.9745\n",
      "Epoch 15/40\n",
      "60000/60000 [==============================] - 1s 22us/sample - loss: 0.0212 - accuracy: 0.9936 - val_loss: 0.0917 - val_accuracy: 0.9762\n",
      "Epoch 16/40\n",
      "60000/60000 [==============================] - 1s 22us/sample - loss: 0.0195 - accuracy: 0.9941 - val_loss: 0.1018 - val_accuracy: 0.9730\n",
      "Epoch 17/40\n",
      "60000/60000 [==============================] - 1s 22us/sample - loss: 0.0173 - accuracy: 0.9946 - val_loss: 0.1006 - val_accuracy: 0.9748\n",
      "Epoch 18/40\n",
      "60000/60000 [==============================] - 1s 22us/sample - loss: 0.0156 - accuracy: 0.9952 - val_loss: 0.0976 - val_accuracy: 0.9757\n",
      "Epoch 19/40\n",
      "60000/60000 [==============================] - 1s 22us/sample - loss: 0.0146 - accuracy: 0.9957 - val_loss: 0.1041 - val_accuracy: 0.9736\n",
      "Epoch 20/40\n",
      "60000/60000 [==============================] - 1s 22us/sample - loss: 0.0136 - accuracy: 0.9959 - val_loss: 0.0989 - val_accuracy: 0.9762\n",
      "Epoch 21/40\n",
      "60000/60000 [==============================] - 1s 22us/sample - loss: 0.0107 - accuracy: 0.9969 - val_loss: 0.1136 - val_accuracy: 0.9729\n",
      "Epoch 22/40\n",
      "60000/60000 [==============================] - 1s 22us/sample - loss: 0.0094 - accuracy: 0.9975 - val_loss: 0.1085 - val_accuracy: 0.9752\n",
      "Epoch 23/40\n",
      "60000/60000 [==============================] - 1s 22us/sample - loss: 0.0079 - accuracy: 0.9978 - val_loss: 0.1161 - val_accuracy: 0.9745\n",
      "Epoch 24/40\n",
      "60000/60000 [==============================] - 1s 22us/sample - loss: 0.0140 - accuracy: 0.9949 - val_loss: 0.1307 - val_accuracy: 0.9715\n",
      "Epoch 25/40\n",
      "60000/60000 [==============================] - 1s 22us/sample - loss: 0.0091 - accuracy: 0.9969 - val_loss: 0.1351 - val_accuracy: 0.9714\n",
      "Epoch 26/40\n",
      "60000/60000 [==============================] - 1s 22us/sample - loss: 0.0063 - accuracy: 0.9983 - val_loss: 0.1208 - val_accuracy: 0.9745\n",
      "Epoch 27/40\n",
      "60000/60000 [==============================] - 1s 22us/sample - loss: 0.0037 - accuracy: 0.9992 - val_loss: 0.1146 - val_accuracy: 0.9769\n",
      "Epoch 28/40\n",
      "60000/60000 [==============================] - 1s 22us/sample - loss: 0.0079 - accuracy: 0.9974 - val_loss: 0.1267 - val_accuracy: 0.9748\n",
      "Epoch 29/40\n",
      "60000/60000 [==============================] - 1s 22us/sample - loss: 0.0113 - accuracy: 0.9960 - val_loss: 0.1288 - val_accuracy: 0.9740\n",
      "Epoch 30/40\n",
      "60000/60000 [==============================] - 1s 22us/sample - loss: 0.0050 - accuracy: 0.9987 - val_loss: 0.1547 - val_accuracy: 0.9703\n",
      "Epoch 31/40\n",
      "60000/60000 [==============================] - 1s 22us/sample - loss: 0.0031 - accuracy: 0.9994 - val_loss: 0.1336 - val_accuracy: 0.9759\n",
      "Epoch 32/40\n",
      "60000/60000 [==============================] - 1s 22us/sample - loss: 0.0041 - accuracy: 0.9989 - val_loss: 0.1530 - val_accuracy: 0.9727\n",
      "Epoch 33/40\n",
      "60000/60000 [==============================] - 1s 22us/sample - loss: 0.0120 - accuracy: 0.9962 - val_loss: 0.1437 - val_accuracy: 0.9735\n",
      "Epoch 34/40\n",
      "60000/60000 [==============================] - 1s 22us/sample - loss: 0.0083 - accuracy: 0.9973 - val_loss: 0.1493 - val_accuracy: 0.9723\n",
      "Epoch 35/40\n",
      "60000/60000 [==============================] - 1s 22us/sample - loss: 0.0038 - accuracy: 0.9989 - val_loss: 0.1411 - val_accuracy: 0.9752\n",
      "Epoch 36/40\n",
      "60000/60000 [==============================] - 1s 22us/sample - loss: 0.0073 - accuracy: 0.9979 - val_loss: 0.1561 - val_accuracy: 0.9738\n",
      "Epoch 37/40\n",
      "60000/60000 [==============================] - 1s 22us/sample - loss: 0.0105 - accuracy: 0.9965 - val_loss: 0.1462 - val_accuracy: 0.9752\n",
      "Epoch 38/40\n",
      "60000/60000 [==============================] - 1s 22us/sample - loss: 0.0021 - accuracy: 0.9996 - val_loss: 0.1418 - val_accuracy: 0.9767\n",
      "Epoch 39/40\n",
      "60000/60000 [==============================] - 1s 22us/sample - loss: 5.9682e-04 - accuracy: 1.0000 - val_loss: 0.1323 - val_accuracy: 0.9772\n",
      "Epoch 40/40\n",
      "60000/60000 [==============================] - 1s 22us/sample - loss: 3.0435e-04 - accuracy: 1.0000 - val_loss: 0.1326 - val_accuracy: 0.9774\n"
     ]
    }
   ],
   "source": [
    "model.compile(optimizer='adam', loss='sparse_categorical_crossentropy', metrics=['accuracy'])\n",
    "history = model.fit(train_images, train_labels, batch_size=128, epochs=40, verbose=1, validation_data=(test_images,test_labels))"
   ]
  },
  {
   "cell_type": "code",
   "execution_count": 9,
   "metadata": {},
   "outputs": [
    {
     "data": {
      "image/png": "[encoded data removed]",
      "text/plain": [
       "<Figure size 432x288 with 1 Axes>"
      ]
     },
     "metadata": {
      "needs_background": "light"
     },
     "output_type": "display_data"
    }
   ],
   "source": [
    "plt.plot(history.history['loss'])\n",
    "plt.plot(history.history['val_loss'])\n",
    "plt.title('Model loss')\n",
    "plt.ylabel('Loss')\n",
    "plt.xlabel('Epoch')\n",
    "plt.legend(['Train', 'Test'], loc='upper left')\n",
    "plt.show()"
   ]
  },
  {
   "cell_type": "code",
   "execution_count": 10,
   "metadata": {},
   "outputs": [
    {
     "data": {
      "image/png": "[encoded data removed]",
      "text/plain": [
       "<Figure size 432x288 with 1 Axes>"
      ]
     },
     "metadata": {
      "needs_background": "light"
     },
     "output_type": "display_data"
    }
   ],
   "source": [
    "plt.plot(history.history['accuracy'])\n",
    "plt.plot(history.history['val_accuracy'])\n",
    "plt.title('Model accuracy')\n",
    "plt.ylabel('Accuracy')\n",
    "plt.xlabel('Epoch')\n",
    "plt.legend(['Train', 'Test'], loc=\"upper left\")\n",
    "plt.show()"
   ]
  },
  {
   "cell_type": "markdown",
   "metadata": {},
   "source": [
    "Now let's try using a one-layer CNN."
   ]
  },
  {
   "cell_type": "code",
   "execution_count": 10,
   "metadata": {},
   "outputs": [],
   "source": [
    "(train_images, train_labels), (test_images, test_labels) = mnist.load_data()\n",
    "train_images = train_images.reshape(60000, 28, 28, 1)\n",
    "test_images = test_images.reshape(10000, 28, 28, 1)\n",
    "train_images, test_images = train_images/255, test_images/255"
   ]
  },
  {
   "cell_type": "code",
   "execution_count": 13,
   "metadata": {},
   "outputs": [
    {
     "name": "stdout",
     "output_type": "stream",
     "text": [
      "Model: \"sequential_1\"\n",
      "_________________________________________________________________\n",
      "Layer (type)                 Output Shape              Param #   \n",
      "=================================================================\n",
      "conv2d_2 (Conv2D)            (None, 26, 26, 32)        320       \n",
      "_________________________________________________________________\n",
      "max_pooling2d_1 (MaxPooling2 (None, 13, 13, 32)        0         \n",
      "_________________________________________________________________\n",
      "flatten_1 (Flatten)          (None, 5408)              0         \n",
      "_________________________________________________________________\n",
      "dense_2 (Dense)              (None, 100)               540900    \n",
      "_________________________________________________________________\n",
      "dense_3 (Dense)              (None, 10)                1010      \n",
      "=================================================================\n",
      "Total params: 542,230\n",
      "Trainable params: 542,230\n",
      "Non-trainable params: 0\n",
      "_________________________________________________________________\n"
     ]
    }
   ],
   "source": [
    "model = tf.keras.Sequential([\n",
    "    tf.keras.layers.Conv2D(32, (3,3), activation='relu', input_shape=(28,28,1)),\n",
    "    tf.keras.layers.MaxPooling2D(2,2),\n",
    "    tf.keras.layers.Flatten(),\n",
    "    tf.keras.layers.Dense(100, activation='relu'),\n",
    "    tf.keras.layers.Dense(10, activation='softmax')\n",
    "])\n",
    "model.summary()"
   ]
  },
  {
   "cell_type": "code",
   "execution_count": 14,
   "metadata": {},
   "outputs": [
    {
     "name": "stdout",
     "output_type": "stream",
     "text": [
      "Train on 60000 samples, validate on 10000 samples\n",
      "Epoch 1/10\n",
      "60000/60000 [==============================] - 4s 70us/sample - loss: 0.2332 - accuracy: 0.9292 - val_loss: 0.0942 - val_accuracy: 0.9724\n",
      "Epoch 2/10\n",
      "60000/60000 [==============================] - 4s 64us/sample - loss: 0.0814 - accuracy: 0.9747 - val_loss: 0.0664 - val_accuracy: 0.9798\n",
      "Epoch 3/10\n",
      "60000/60000 [==============================] - 4s 63us/sample - loss: 0.0530 - accuracy: 0.9840 - val_loss: 0.0654 - val_accuracy: 0.9790\n",
      "Epoch 4/10\n",
      "60000/60000 [==============================] - 4s 63us/sample - loss: 0.0381 - accuracy: 0.9883 - val_loss: 0.0584 - val_accuracy: 0.9817\n",
      "Epoch 5/10\n",
      "60000/60000 [==============================] - 4s 63us/sample - loss: 0.0307 - accuracy: 0.9903 - val_loss: 0.0579 - val_accuracy: 0.9818\n",
      "Epoch 6/10\n",
      "60000/60000 [==============================] - 4s 64us/sample - loss: 0.0223 - accuracy: 0.9929 - val_loss: 0.0547 - val_accuracy: 0.9820\n",
      "Epoch 7/10\n",
      "60000/60000 [==============================] - 4s 63us/sample - loss: 0.0171 - accuracy: 0.9948 - val_loss: 0.0466 - val_accuracy: 0.9856\n",
      "Epoch 8/10\n",
      "60000/60000 [==============================] - 4s 63us/sample - loss: 0.0126 - accuracy: 0.9962 - val_loss: 0.0425 - val_accuracy: 0.9858\n",
      "Epoch 9/10\n",
      "60000/60000 [==============================] - 4s 64us/sample - loss: 0.0093 - accuracy: 0.9974 - val_loss: 0.0459 - val_accuracy: 0.9859\n",
      "Epoch 10/10\n",
      "60000/60000 [==============================] - 4s 64us/sample - loss: 0.0080 - accuracy: 0.9977 - val_loss: 0.0464 - val_accuracy: 0.9859\n"
     ]
    }
   ],
   "source": [
    "model.compile(optimizer=tf.keras.optimizers.SGD(lr=0.01, momentum=0.9), loss='sparse_categorical_crossentropy', metrics=['accuracy'])\n",
    "history2 = model.fit(train_images, train_labels, batch_size=32, epochs=10, verbose=1, validation_data = (test_images, test_labels))"
   ]
  },
  {
   "cell_type": "code",
   "execution_count": 15,
   "metadata": {},
   "outputs": [
    {
     "data": {
      "image/png": "[encoded data removed]",
      "text/plain": [
       "<Figure size 432x288 with 1 Axes>"
      ]
     },
     "metadata": {
      "needs_background": "light"
     },
     "output_type": "display_data"
    }
   ],
   "source": [
    "plt.plot(history2.history['accuracy'])\n",
    "plt.plot(history2.history['val_accuracy'])\n",
    "plt.title('CNN 1-layer model accuracy')\n",
    "plt.ylabel('Accuracy')\n",
    "plt.xlabel('Epoch')\n",
    "plt.legend(['Train', 'Test'], loc=\"upper left\")\n",
    "plt.show()"
   ]
  },
  {
   "cell_type": "markdown",
   "metadata": {},
   "source": [
    "Now let's try a 2-layer CNN with dropout."
   ]
  },
  {
   "cell_type": "code",
   "execution_count": 7,
   "metadata": {},
   "outputs": [
    {
     "name": "stdout",
     "output_type": "stream",
     "text": [
      "Model: \"sequential\"\n",
      "_________________________________________________________________\n",
      "Layer (type)                 Output Shape              Param #   \n",
      "=================================================================\n",
      "conv2d (Conv2D)              (None, 26, 26, 32)        320       \n",
      "_________________________________________________________________\n",
      "conv2d_1 (Conv2D)            (None, 24, 24, 64)        18496     \n",
      "_________________________________________________________________\n",
      "max_pooling2d (MaxPooling2D) (None, 12, 12, 64)        0         \n",
      "_________________________________________________________________\n",
      "dropout (Dropout)            (None, 12, 12, 64)        0         \n",
      "_________________________________________________________________\n",
      "flatten (Flatten)            (None, 9216)              0         \n",
      "_________________________________________________________________\n",
      "dense (Dense)                (None, 128)               1179776   \n",
      "_________________________________________________________________\n",
      "dropout_1 (Dropout)          (None, 128)               0         \n",
      "_________________________________________________________________\n",
      "dense_1 (Dense)              (None, 10)                1290      \n",
      "=================================================================\n",
      "Total params: 1,199,882\n",
      "Trainable params: 1,199,882\n",
      "Non-trainable params: 0\n",
      "_________________________________________________________________\n"
     ]
    }
   ],
   "source": [
    "model = tf.keras.Sequential([\n",
    "    tf.keras.layers.Conv2D(32, (3,3), activation='relu', input_shape=(28,28,1)),\n",
    "    tf.keras.layers.Conv2D(64, (3,3), activation='relu'),\n",
    "    tf.keras.layers.MaxPooling2D(2,2),\n",
    "    tf.keras.layers.Dropout(0.25),\n",
    "    tf.keras.layers.Flatten(),\n",
    "    tf.keras.layers.Dense(128, activation='relu'),\n",
    "    tf.keras.layers.Dropout(0.5),\n",
    "    tf.keras.layers.Dense(10, activation='softmax')\n",
    "])\n",
    "model.summary()"
   ]
  },
  {
   "cell_type": "code",
   "execution_count": 11,
   "metadata": {},
   "outputs": [
    {
     "name": "stdout",
     "output_type": "stream",
     "text": [
      "Train on 60000 samples, validate on 10000 samples\n",
      "Epoch 1/10\n",
      "60000/60000 [==============================] - 10s 171us/sample - loss: 0.2804 - accuracy: 0.9134 - val_loss: 0.0595 - val_accuracy: 0.9801\n",
      "Epoch 2/10\n",
      "60000/60000 [==============================] - 6s 98us/sample - loss: 0.1007 - accuracy: 0.9695 - val_loss: 0.0388 - val_accuracy: 0.9872\n",
      "Epoch 3/10\n",
      "60000/60000 [==============================] - 6s 98us/sample - loss: 0.0759 - accuracy: 0.9776 - val_loss: 0.0337 - val_accuracy: 0.9886\n",
      "Epoch 4/10\n",
      "60000/60000 [==============================] - 6s 98us/sample - loss: 0.0609 - accuracy: 0.9816 - val_loss: 0.0296 - val_accuracy: 0.9903\n",
      "Epoch 5/10\n",
      "60000/60000 [==============================] - 6s 98us/sample - loss: 0.0531 - accuracy: 0.9837 - val_loss: 0.0365 - val_accuracy: 0.9886\n",
      "Epoch 6/10\n",
      "60000/60000 [==============================] - 6s 98us/sample - loss: 0.0456 - accuracy: 0.9857 - val_loss: 0.0288 - val_accuracy: 0.9910\n",
      "Epoch 7/10\n",
      "60000/60000 [==============================] - 6s 98us/sample - loss: 0.0411 - accuracy: 0.9866 - val_loss: 0.0305 - val_accuracy: 0.9908\n",
      "Epoch 8/10\n",
      "60000/60000 [==============================] - 6s 98us/sample - loss: 0.0377 - accuracy: 0.9880 - val_loss: 0.0246 - val_accuracy: 0.9927\n",
      "Epoch 9/10\n",
      "60000/60000 [==============================] - 6s 98us/sample - loss: 0.0340 - accuracy: 0.9890 - val_loss: 0.0277 - val_accuracy: 0.9918\n",
      "Epoch 10/10\n",
      "60000/60000 [==============================] - 6s 98us/sample - loss: 0.0325 - accuracy: 0.9891 - val_loss: 0.0292 - val_accuracy: 0.9908\n"
     ]
    }
   ],
   "source": [
    "model.compile(optimizer=tf.keras.optimizers.SGD(lr=0.01, momentum=0.9), loss='sparse_categorical_crossentropy', metrics=['accuracy'])\n",
    "history3 = model.fit(train_images, train_labels, batch_size=32, epochs=10, verbose=1, validation_data = (test_images, test_labels))"
   ]
  },
  {
   "cell_type": "code",
   "execution_count": 12,
   "metadata": {},
   "outputs": [
    {
     "data": {
      "image/png": "[encoded data removed]",
      "text/plain": [
       "<Figure size 432x288 with 1 Axes>"
      ]
     },
     "metadata": {
      "needs_background": "light"
     },
     "output_type": "display_data"
    }
   ],
   "source": [
    "plt.plot(history3.history['accuracy'])\n",
    "plt.plot(history3.history['val_accuracy'])\n",
    "plt.title('CNN 2-layer model with dropout')\n",
    "plt.ylabel('Accuracy')\n",
    "plt.xlabel('Epoch')\n",
    "plt.legend(['Train', 'Test'], loc=\"upper left\")\n",
    "plt.show()"
   ]
  },
  {
   "cell_type": "code",
   "execution_count": null,
   "metadata": {},
   "outputs": [],
   "source": []
  }
 ],
 "metadata": {
  "kernelspec": {
   "display_name": "myAI",
   "language": "python",
   "name": "myai"
  },
  "language_info": {
   "codemirror_mode": {
    "name": "ipython",
    "version": 3
   },
   "file_extension": ".py",
   "mimetype": "text/x-python",
   "name": "python",
   "nbconvert_exporter": "python",
   "pygments_lexer": "ipython3",
   "version": "3.7.9"
  }
 },
 "nbformat": 4,
 "nbformat_minor": 4
}
